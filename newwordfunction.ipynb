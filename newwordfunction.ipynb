{
 "cells": [
  {
   "cell_type": "code",
   "execution_count": 98,
   "metadata": {},
   "outputs": [
    {
     "data": {
      "text/plain": [
       "{'word': {1: 'precipitation'},\n",
       " 'definition': {1: '\\n\\n\\n\\n1 [noncount] : water that falls to the ground as rain, snow, etc.\\n\\n\\n\\n\\n\\n\\nThe weather forecast calls for some sort of frozen precipitation tomorrow—either snow or sleet.\\n\\na 50 percent chance of precipitation\\n\\n\\n\\n\\n\\n\\n\\n\\n2 [count, noncount] technical : the process of separating a solid substance from a liquid\\n\\n\\n\\n\\n\\n\\nMinerals are separated from the seawater by precipitation.\\n\\n\\n\\n\\n\\n'}}"
      ]
     },
     "execution_count": 98,
     "metadata": {},
     "output_type": "execute_result"
    }
   ],
   "source": [
    "import requests\n",
    "from bs4 import BeautifulSoup\n",
    "import pandas as pd\n",
    "\n",
    "url='https://www.britannica.com/dictionary/eb/word-of-the-day'\n",
    "\n",
    "r = requests.get(url,headers={'User-Agent': 'Mozilla/5.0 (Macintosh; Intel Mac OS X 10.15; rv:97.0) Gecko/20100101 Firefox/97.0'})\n",
    "soup = BeautifulSoup(r.text, 'html.parser')\n",
    "word = soup.find('span', {'class': 'hw_txt'}).text\n",
    "definition = soup.find('div', {'class': 'midbs'}).text\n",
    "\n",
    "    \n",
    "\n",
    "word_definition = {\n",
    "        'word': word, \n",
    "        'definition': definition\n",
    "        }\n",
    "\n",
    "df = pd.DataFrame(word_definition, index=[1])\n",
    "\n",
    "dict_val= df.to_dict()\n",
    "# word_definition ={\n",
    "#     'word': {1: 'precipitation'}, \n",
    "#     'definition': {1: '\\n\\n\\n\\n1 [noncount] : water that falls to the ground as rain, snow, etc.\\n\\n\\n\\n\\n\\n\\nThe weather forecast calls for some sort of frozen precipitation tomorrow—either snow or sleet.\\n\\na 50 percent chance of precipitation\\n\\n\\n\\n\\n\\n\\n\\n\\n2 [count, noncount] technical : the process of separating a solid substance from a liquid\\n\\n\\n\\n\\n\\n\\nMinerals are separated from the seawater by precipitation.\\n\\n\\n\\n\\n\\n'}\n",
    "#     }\n",
    "\n",
    "word_definition = dict_val\n",
    "word_definition\n"
   ]
  },
  {
   "cell_type": "code",
   "execution_count": 99,
   "metadata": {},
   "outputs": [
    {
     "data": {
      "text/plain": [
       "'\\n\\n\\n\\n1 [noncount] : water that falls to the ground as rain, snow, etc.\\n\\n\\n\\n\\n\\n\\nThe weather forecast calls for some sort of frozen precipitation tomorrow—either snow or sleet.\\n\\na 50 percent chance of precipitation\\n\\n\\n\\n\\n\\n\\n\\n\\n2 [count, noncount] technical : the process of separating a solid substance from a liquid\\n\\n\\n\\n\\n\\n\\nMinerals are separated from the seawater by precipitation.\\n\\n\\n\\n\\n\\n'"
      ]
     },
     "execution_count": 99,
     "metadata": {},
     "output_type": "execute_result"
    }
   ],
   "source": [
    "word_definition['word'][1]\n",
    "word_definition['definition'][1].replace('\\n [noncount] [count, noncount]', '')"
   ]
  },
  {
   "cell_type": "code",
   "execution_count": 100,
   "metadata": {},
   "outputs": [
    {
     "data": {
      "text/plain": [
       "'1 : water that falls to the ground as rain, snow, etc. The weather forecast calls for some sort of frozen precipitation tomorrow—either snow or sleet. a 50 percent chance of precipitation 2 [count, noncount] technical : the process of separating a solid substance from a liquid Minerals are separated from the seawater by precipitation.'"
      ]
     },
     "execution_count": 100,
     "metadata": {},
     "output_type": "execute_result"
    }
   ],
   "source": [
    "stword = ['[count, noncount]','\\n','[noncount]','[]']\n",
    "querywords = word_definition['definition'][1].split()\n",
    "\n",
    "resultwords  = [word for word in querywords if word.lower() not in stword]\n",
    "result = ' '.join(resultwords)\n",
    "\n",
    "result"
   ]
  },
  {
   "cell_type": "code",
   "execution_count": 101,
   "metadata": {},
   "outputs": [],
   "source": [
    "import re\n",
    "meaning = re.sub(\"([\\(\\[]).*?([\\)\\]])\", \"\\g<1>\\g<2>\", result)\n"
   ]
  },
  {
   "cell_type": "code",
   "execution_count": 102,
   "metadata": {},
   "outputs": [
    {
     "data": {
      "text/plain": [
       "['precipitation',\n",
       " '1 : water that falls to the ground as rain, snow, etc. The weather forecast calls for some sort of frozen precipitation tomorrow—either snow or sleet. a 50 percent chance of precipitation 2 [] technical : the process of separating a solid substance from a liquid Minerals are separated from the seawater by precipitation.']"
      ]
     },
     "execution_count": 102,
     "metadata": {},
     "output_type": "execute_result"
    }
   ],
   "source": [
    "newilst = []\n",
    "newilst.append(word_definition['word'][1])\n",
    "newilst.append(meaning)\n",
    "\n",
    "newilst"
   ]
  },
  {
   "cell_type": "code",
   "execution_count": 103,
   "metadata": {},
   "outputs": [],
   "source": [
    "import requests\n",
    "from bs4 import BeautifulSoup\n",
    "import pandas as pd\n",
    "\n",
    "def extractword():\n",
    "    url='https://www.britannica.com/dictionary/eb/word-of-the-day'\n",
    "\n",
    "    r = requests.get(url,headers={'User-Agent': 'Mozilla/5.0 (Macintosh; Intel Mac OS X 10.15; rv:97.0) Gecko/20100101 Firefox/97.0'})\n",
    "    soup = BeautifulSoup(r.text, 'html.parser')\n",
    "    word = soup.find('span', {'class': 'hw_txt'}).text\n",
    "    definition = soup.find('div', {'class': 'midbs'}).text\n",
    "\n",
    "        \n",
    "\n",
    "    word_definition = {\n",
    "            'word': word, \n",
    "            'definition': definition\n",
    "            }\n",
    "\n",
    "    df = pd.DataFrame(word_definition, index=[1])\n",
    "\n",
    "    dict_val= df.to_dict()\n",
    "    # word_definition ={\n",
    "    #     'word': {1: 'precipitation'}, \n",
    "    #     'definition': {1: '\\n\\n\\n\\n1 [noncount] : water that falls to the ground as rain, snow, etc.\\n\\n\\n\\n\\n\\n\\nThe weather forecast calls for some sort of frozen precipitation tomorrow—either snow or sleet.\\n\\na 50 percent chance of precipitation\\n\\n\\n\\n\\n\\n\\n\\n\\n2 [count, noncount] technical : the process of separating a solid substance from a liquid\\n\\n\\n\\n\\n\\n\\nMinerals are separated from the seawater by precipitation.\\n\\n\\n\\n\\n\\n'}\n",
    "    #     }\n",
    "\n",
    "    word_definition = dict_val\n",
    "    return word_definition"
   ]
  },
  {
   "cell_type": "code",
   "execution_count": 104,
   "metadata": {},
   "outputs": [],
   "source": [
    "def wordperday(word_definition):\n",
    "    word_definition['word'][1]\n",
    "    word_definition['definition'][1].replace('\\n [noncount] [count, noncount]', '')\n",
    "\n",
    "    stword = ['[count, noncount]','\\n','[noncount]','[]']\n",
    "    querywords = word_definition['definition'][1].split()\n",
    "\n",
    "    resultwords  = [word for word in querywords if word.lower() not in stword]\n",
    "    result = ' '.join(resultwords)\n",
    "\n",
    "    import re\n",
    "    meaning = re.sub(\"([\\(\\[]).*?([\\)\\]])\", \"\\g<1>\\g<2>\", result)\n",
    "\n",
    "    newilst = []\n",
    "    newilst.append(word_definition['word'][1])\n",
    "    newilst.append(meaning)\n",
    "\n",
    "    return newilst"
   ]
  },
  {
   "cell_type": "code",
   "execution_count": 105,
   "metadata": {},
   "outputs": [],
   "source": [
    "word_value = extractword()\n",
    "newword = wordperday(word_value)\n",
    "\n"
   ]
  },
  {
   "cell_type": "code",
   "execution_count": 12,
   "metadata": {},
   "outputs": [],
   "source": [
    "import math as fabs\n",
    "import os\n",
    "import pyautogui\n",
    "import time\n",
    "import config\n",
    "import subprocess\n",
    "\n",
    "\n"
   ]
  },
  {
   "cell_type": "code",
   "execution_count": 13,
   "metadata": {},
   "outputs": [
    {
     "data": {
      "text/plain": [
       "0"
      ]
     },
     "execution_count": 13,
     "metadata": {},
     "output_type": "execute_result"
    }
   ],
   "source": [
    "os.system(\"open /Applications/WhatsApp.app\")"
   ]
  },
  {
   "cell_type": "code",
   "execution_count": 14,
   "metadata": {},
   "outputs": [],
   "source": [
    "def send_whatsapp(newword):\n",
    "    os.system(\"open /Applications/Whatsapp.app\")\n",
    "    newword = newword\n",
    "    time.sleep(10)\n",
    "    # pyautogui.click(941,457, clicks =2); pyautogui.typewrite('Hello world \\n')\n",
    "    # pyautogui.screenshot('tab1.png',region=(0,0,1697,153))\n",
    "    print(type(config.folder_path))\n",
    "    x,y= pyautogui.locateCenterOnScreen(os.path.join(config.folder_path,'images/','screen.png'), confidence=0.5)\n",
    "    pyautogui.click(x/2,y/2)\n",
    "    pyautogui.typewrite('MASOOD AHAMED\\n')\n",
    "    print(x,y)\n",
    "\n",
    "\n",
    "    sendx,sendy= pyautogui.locateCenterOnScreen(os.path.join('images/','send_msg.png'), confidence=0.5)\n",
    "    pyautogui.click(sendx/2,sendy/2)\n",
    "    pyautogui.typewrite(str(newword)+'\\n')\n",
    "    return"
   ]
  }
 ],
 "metadata": {
  "interpreter": {
   "hash": "fe97a138315e747c6c6ece86bf378d5bd8934b9ff9de5fe2e534590fe6e61831"
  },
  "kernelspec": {
   "display_name": "Python 3.9.1 ('wordofday': venv)",
   "language": "python",
   "name": "python3"
  },
  "language_info": {
   "codemirror_mode": {
    "name": "ipython",
    "version": 3
   },
   "file_extension": ".py",
   "mimetype": "text/x-python",
   "name": "python",
   "nbconvert_exporter": "python",
   "pygments_lexer": "ipython3",
   "version": "3.9.1"
  },
  "orig_nbformat": 4
 },
 "nbformat": 4,
 "nbformat_minor": 2
}
